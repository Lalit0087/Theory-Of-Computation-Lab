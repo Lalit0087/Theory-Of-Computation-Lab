{
 "cells": [
  {
   "cell_type": "markdown",
   "metadata": {},
   "source": [
    "DFA that accepts two consecutive 1's"
   ]
  },
  {
   "cell_type": "code",
   "execution_count": null,
   "metadata": {},
   "outputs": [],
   "source": [
    "dfa = {'q0' : {'0' : 'q0','1' : 'q1'},'q1' : {'0' : 'q0','1' : 'q2'},'q2' : {'0' : 'q2','1' : 'q2'}} \n",
    "\n",
    "Is = 'q1'\n",
    "Fs = {'q2'}\n",
    "inp = input(\"Enter a string==> \")\n",
    "cs = Is\n",
    "for i in inp:\n",
    "    cs = dfa[cs][i]\n",
    "if cs in Fs:\n",
    "    print('Valid')\n",
    "else:\n",
    "    print('Invalid')\n"
   ]
  }
 ],
 "metadata": {
  "kernelspec": {
   "display_name": "Python 3",
   "language": "python",
   "name": "python3"
  },
  "language_info": {
   "codemirror_mode": {
    "name": "ipython",
    "version": 3
   },
   "file_extension": ".py",
   "mimetype": "text/x-python",
   "name": "python",
   "nbconvert_exporter": "python",
   "pygments_lexer": "ipython3",
   "version": "3.7.3"
  }
 },
 "nbformat": 4,
 "nbformat_minor": 4
}
